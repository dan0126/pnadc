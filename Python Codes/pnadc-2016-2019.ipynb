{
 "cells": [
  {
   "cell_type": "code",
   "execution_count": 1,
   "id": "8e03124b",
   "metadata": {
    "_cell_guid": "b1076dfc-b9ad-4769-8c92-a6c4dae69d19",
    "_uuid": "8f2839f25d086af736a60e9eeb907d3b93b6e0e5",
    "execution": {
     "iopub.execute_input": "2022-03-01T23:30:06.735560Z",
     "iopub.status.busy": "2022-03-01T23:30:06.733820Z",
     "iopub.status.idle": "2022-03-01T23:30:09.118586Z",
     "shell.execute_reply": "2022-03-01T23:30:09.119406Z",
     "shell.execute_reply.started": "2022-03-01T23:28:42.985252Z"
    },
    "papermill": {
     "duration": 2.435715,
     "end_time": "2022-03-01T23:30:09.119771",
     "exception": false,
     "start_time": "2022-03-01T23:30:06.684056",
     "status": "completed"
    },
    "tags": []
   },
   "outputs": [
    {
     "name": "stdout",
     "output_type": "stream",
     "text": [
      "/kaggle/input/c1-pnadc/PNADc2016.csv\n",
      "/kaggle/input/c1-pnadc/PNADc2019.csv\n",
      "/kaggle/input/c1-pnadc/PNADc2018.csv\n",
      "/kaggle/input/c1-pnadc/PNADc2017.csv\n"
     ]
    }
   ],
   "source": [
    "# This Python 3 environment comes with many helpful analytics libraries installed\n",
    "# It is defined by the kaggle/python Docker image: https://github.com/kaggle/docker-python\n",
    "# For example, here's several helpful packages to load\n",
    "\n",
    "import numpy as np # linear algebra\n",
    "import pandas as pd # data processing, CSV file I/O (e.g. pd.read_csv)\n",
    "import seaborn as sns\n",
    "from pylab import rcParams\n",
    "import matplotlib.pyplot as plt\n",
    "import plotly.express as px\n",
    "\n",
    "# Input data files are available in the read-only \"../input/\" directory\n",
    "# For example, running this (by clicking run or pressing Shift+Enter) will list all files under the input directory\n",
    "\n",
    "import os\n",
    "for dirname, _, filenames in os.walk('/kaggle/input'):\n",
    "    for filename in filenames:\n",
    "        print(os.path.join(dirname, filename))\n",
    "\n",
    "# You can write up to 20GB to the current directory (/kaggle/working/) that gets preserved as output when you create a version using \"Save & Run All\" \n",
    "# You can also write temporary files to /kaggle/temp/, but they won't be saved outside of the current session"
   ]
  },
  {
   "cell_type": "markdown",
   "id": "00b225e5",
   "metadata": {
    "papermill": {
     "duration": 0.038632,
     "end_time": "2022-03-01T23:30:09.199490",
     "exception": false,
     "start_time": "2022-03-01T23:30:09.160858",
     "status": "completed"
    },
    "tags": []
   },
   "source": [
    "# Preparando dados"
   ]
  },
  {
   "cell_type": "code",
   "execution_count": 2,
   "id": "269e9834",
   "metadata": {
    "execution": {
     "iopub.execute_input": "2022-03-01T23:30:09.290408Z",
     "iopub.status.busy": "2022-03-01T23:30:09.289074Z",
     "iopub.status.idle": "2022-03-01T23:30:09.305030Z",
     "shell.execute_reply": "2022-03-01T23:30:09.305626Z",
     "shell.execute_reply.started": "2022-03-01T23:28:45.118357Z"
    },
    "papermill": {
     "duration": 0.064575,
     "end_time": "2022-03-01T23:30:09.305820",
     "exception": false,
     "start_time": "2022-03-01T23:30:09.241245",
     "status": "completed"
    },
    "tags": []
   },
   "outputs": [
    {
     "data": {
      "text/plain": [
       "'V3009A'"
      ]
     },
     "execution_count": 2,
     "metadata": {},
     "output_type": "execute_result"
    }
   ],
   "source": [
    "# LEGENDAS\n",
    "\n",
    "\"V2007\", # Sexo\n",
    "\"V2009\"  # Idade do morador na data de referência\n",
    "\"V2010\"  # Cor/raça\n",
    "\"V3003A\" # Qual é o curso que frequenta atualmente \n",
    "\"V3001\"  # Sabe ler e escrever\n",
    "\"VD4001\" # Economicamente ativa/não (Força de trabalho)\n",
    "\"VD4002\" # Ocupadas/ não ocupadas - não incluso\n",
    "\"VD4020\" # Redimentos mensal de trabalho\n",
    "\"VD5002\" # Renda domiciliar per capita - não incluso\n",
    "\"V4010\"  # Profissão principa(função, cargo)\n",
    "\"V3009A\" # Qual é o curso mais elevado que já frequentou"
   ]
  },
  {
   "cell_type": "code",
   "execution_count": 3,
   "id": "0504a271",
   "metadata": {
    "execution": {
     "iopub.execute_input": "2022-03-01T23:30:09.396110Z",
     "iopub.status.busy": "2022-03-01T23:30:09.395477Z",
     "iopub.status.idle": "2022-03-01T23:30:21.401618Z",
     "shell.execute_reply": "2022-03-01T23:30:21.402107Z",
     "shell.execute_reply.started": "2022-03-01T23:28:45.136336Z"
    },
    "papermill": {
     "duration": 12.049496,
     "end_time": "2022-03-01T23:30:21.402281",
     "exception": false,
     "start_time": "2022-03-01T23:30:09.352785",
     "status": "completed"
    },
    "tags": []
   },
   "outputs": [],
   "source": [
    "df_2016 = pd.read_csv('../input/c1-pnadc/PNADc2016.csv')\n",
    "df_2017 = pd.read_csv('../input/c1-pnadc/PNADc2017.csv')\n",
    "df_2018 = pd.read_csv('../input/c1-pnadc/PNADc2018.csv')\n",
    "df_2019 = pd.read_csv('../input/c1-pnadc/PNADc2019.csv')"
   ]
  },
  {
   "cell_type": "code",
   "execution_count": 4,
   "id": "08387d50",
   "metadata": {
    "execution": {
     "iopub.execute_input": "2022-03-01T23:30:21.490522Z",
     "iopub.status.busy": "2022-03-01T23:30:21.489813Z",
     "iopub.status.idle": "2022-03-01T23:30:21.492866Z",
     "shell.execute_reply": "2022-03-01T23:30:21.493268Z",
     "shell.execute_reply.started": "2022-03-01T23:28:52.642198Z"
    },
    "papermill": {
     "duration": 0.049781,
     "end_time": "2022-03-01T23:30:21.493410",
     "exception": false,
     "start_time": "2022-03-01T23:30:21.443629",
     "status": "completed"
    },
    "tags": []
   },
   "outputs": [
    {
     "data": {
      "text/plain": [
       "Index(['Unnamed: 0', 'Ano', 'Trimestre', 'UF', 'UPA', 'Estrato', 'V1008',\n",
       "       'V1030', 'V1031', 'posest', 'V2003', 'V2007', 'V2009', 'V2010', 'V3001',\n",
       "       'V3003A', 'V3009A', 'V4010', 'V4041', 'VD4001', 'VD4002', 'VD4020',\n",
       "       'VD5002', 'CO1', 'CO1e', 'CO2', 'CO2e', 'CO3'],\n",
       "      dtype='object')"
      ]
     },
     "execution_count": 4,
     "metadata": {},
     "output_type": "execute_result"
    }
   ],
   "source": [
    "df_2019.columns"
   ]
  },
  {
   "cell_type": "code",
   "execution_count": 5,
   "id": "93822d61",
   "metadata": {
    "execution": {
     "iopub.execute_input": "2022-03-01T23:30:21.590006Z",
     "iopub.status.busy": "2022-03-01T23:30:21.589266Z",
     "iopub.status.idle": "2022-03-01T23:30:21.759981Z",
     "shell.execute_reply": "2022-03-01T23:30:21.760384Z",
     "shell.execute_reply.started": "2022-03-01T23:28:52.650308Z"
    },
    "papermill": {
     "duration": 0.226836,
     "end_time": "2022-03-01T23:30:21.760537",
     "exception": false,
     "start_time": "2022-03-01T23:30:21.533701",
     "status": "completed"
    },
    "tags": []
   },
   "outputs": [],
   "source": [
    "deletar = ['Unnamed: 0',\n",
    "           'Trimestre',\n",
    "           'UPA',\n",
    "           'Estrato',\n",
    "           'V1008',\n",
    "           'V1030',\n",
    "           \"VD5002\",\n",
    "           'V1031',\n",
    "           'V4041',\n",
    "           'posest',\n",
    "           'V2003', \n",
    "           'CO1',\n",
    "           'CO1e',\n",
    "           'CO2',\n",
    "           'CO2e',\n",
    "           'CO3']\n",
    "\n",
    "df_2016 = df_2016.drop(deletar, axis=1)\n",
    "df_2017 = df_2017.drop(deletar, axis=1)\n",
    "df_2018 = df_2018.drop(deletar, axis=1)\n",
    "df_2019 = df_2019.drop(deletar, axis=1)"
   ]
  },
  {
   "cell_type": "code",
   "execution_count": 6,
   "id": "b4852cfa",
   "metadata": {
    "execution": {
     "iopub.execute_input": "2022-03-01T23:30:21.851475Z",
     "iopub.status.busy": "2022-03-01T23:30:21.850181Z",
     "iopub.status.idle": "2022-03-01T23:30:21.857049Z",
     "shell.execute_reply": "2022-03-01T23:30:21.857511Z",
     "shell.execute_reply.started": "2022-03-01T23:28:52.790953Z"
    },
    "papermill": {
     "duration": 0.055058,
     "end_time": "2022-03-01T23:30:21.857695",
     "exception": false,
     "start_time": "2022-03-01T23:30:21.802637",
     "status": "completed"
    },
    "tags": []
   },
   "outputs": [
    {
     "data": {
      "text/plain": [
       "Index(['Ano', 'UF', 'V2007', 'V2009', 'V2010', 'V3001', 'V3003A', 'V3009A',\n",
       "       'V4010', 'VD4001', 'VD4002', 'VD4020'],\n",
       "      dtype='object')"
      ]
     },
     "execution_count": 6,
     "metadata": {},
     "output_type": "execute_result"
    }
   ],
   "source": [
    "df_2019.columns"
   ]
  },
  {
   "cell_type": "code",
   "execution_count": 7,
   "id": "baaa675a",
   "metadata": {
    "execution": {
     "iopub.execute_input": "2022-03-01T23:30:21.947967Z",
     "iopub.status.busy": "2022-03-01T23:30:21.947199Z",
     "iopub.status.idle": "2022-03-01T23:30:21.950551Z",
     "shell.execute_reply": "2022-03-01T23:30:21.949778Z",
     "shell.execute_reply.started": "2022-03-01T23:28:52.800956Z"
    },
    "papermill": {
     "duration": 0.051167,
     "end_time": "2022-03-01T23:30:21.950693",
     "exception": false,
     "start_time": "2022-03-01T23:30:21.899526",
     "status": "completed"
    },
    "tags": []
   },
   "outputs": [],
   "source": [
    "nome = ['Ano',    #Ano\n",
    "        'UF',     #UF\n",
    "        'Sexo',   #V2007\n",
    "        'Idade',  #V2009 \n",
    "        'Cor',    #V2010\n",
    "        'Le/escreve',      #V3001\n",
    "        'Educação atual',  #V3003A \n",
    "        'Educação feita',  #V3009A \n",
    "        'Profissao',       #V4010\n",
    "        'Economicamente ativa/não',  #VD4001\n",
    "        'Ocupado/não',               #VD4002\n",
    "        'Redimentos de trabalho']    #VD4020\n",
    "\n",
    "\n",
    "df_2016.columns = nome\n",
    "df_2017.columns = nome\n",
    "df_2018.columns = nome\n",
    "df_2019.columns = nome"
   ]
  },
  {
   "cell_type": "markdown",
   "id": "c09b1157",
   "metadata": {
    "papermill": {
     "duration": 0.040977,
     "end_time": "2022-03-01T23:30:22.032700",
     "exception": false,
     "start_time": "2022-03-01T23:30:21.991723",
     "status": "completed"
    },
    "tags": []
   },
   "source": [
    "# Construindo dataframe para análises"
   ]
  },
  {
   "cell_type": "code",
   "execution_count": 8,
   "id": "22764c8b",
   "metadata": {
    "execution": {
     "iopub.execute_input": "2022-03-01T23:30:22.121515Z",
     "iopub.status.busy": "2022-03-01T23:30:22.120314Z",
     "iopub.status.idle": "2022-03-01T23:30:22.397728Z",
     "shell.execute_reply": "2022-03-01T23:30:22.398159Z",
     "shell.execute_reply.started": "2022-03-01T23:28:52.811987Z"
    },
    "papermill": {
     "duration": 0.324001,
     "end_time": "2022-03-01T23:30:22.398317",
     "exception": false,
     "start_time": "2022-03-01T23:30:22.074316",
     "status": "completed"
    },
    "tags": []
   },
   "outputs": [],
   "source": [
    "df = pd.concat([df_2016, df_2017, df_2018, df_2019])"
   ]
  },
  {
   "cell_type": "markdown",
   "id": "b7f2387b",
   "metadata": {
    "papermill": {
     "duration": 0.040156,
     "end_time": "2022-03-01T23:30:22.479250",
     "exception": false,
     "start_time": "2022-03-01T23:30:22.439094",
     "status": "completed"
    },
    "tags": []
   },
   "source": [
    "**Checking dataframe shape**"
   ]
  },
  {
   "cell_type": "code",
   "execution_count": 9,
   "id": "b6789e5c",
   "metadata": {
    "execution": {
     "iopub.execute_input": "2022-03-01T23:30:22.564399Z",
     "iopub.status.busy": "2022-03-01T23:30:22.563401Z",
     "iopub.status.idle": "2022-03-01T23:30:22.570540Z",
     "shell.execute_reply": "2022-03-01T23:30:22.571215Z",
     "shell.execute_reply.started": "2022-03-01T23:28:53.111844Z"
    },
    "papermill": {
     "duration": 0.051177,
     "end_time": "2022-03-01T23:30:22.571399",
     "exception": false,
     "start_time": "2022-03-01T23:30:22.520222",
     "status": "completed"
    },
    "tags": []
   },
   "outputs": [
    {
     "data": {
      "text/plain": [
       "True"
      ]
     },
     "execution_count": 9,
     "metadata": {},
     "output_type": "execute_result"
    }
   ],
   "source": [
    "df.shape[0] == df_2016.shape[0]+df_2017.shape[0]+df_2018.shape[0]+df_2019.shape[0]"
   ]
  },
  {
   "cell_type": "markdown",
   "id": "66752787",
   "metadata": {
    "papermill": {
     "duration": 0.04099,
     "end_time": "2022-03-01T23:30:22.653450",
     "exception": false,
     "start_time": "2022-03-01T23:30:22.612460",
     "status": "completed"
    },
    "tags": []
   },
   "source": [
    "# Funções"
   ]
  },
  {
   "cell_type": "code",
   "execution_count": 10,
   "id": "a9f07b31",
   "metadata": {
    "execution": {
     "iopub.execute_input": "2022-03-01T23:30:22.740253Z",
     "iopub.status.busy": "2022-03-01T23:30:22.739561Z",
     "iopub.status.idle": "2022-03-01T23:30:22.749721Z",
     "shell.execute_reply": "2022-03-01T23:30:22.750233Z",
     "shell.execute_reply.started": "2022-03-01T23:28:53.122221Z"
    },
    "papermill": {
     "duration": 0.055223,
     "end_time": "2022-03-01T23:30:22.750401",
     "exception": false,
     "start_time": "2022-03-01T23:30:22.695178",
     "status": "completed"
    },
    "tags": []
   },
   "outputs": [],
   "source": [
    "def idade(dataframe):\n",
    "\n",
    "    idade = dataframe['Idade'].to_list()\n",
    "\n",
    "    i10=np.percentile(idade,10)\n",
    "    i20=np.percentile(idade,20)\n",
    "    i25=np.percentile(idade,25)\n",
    "    i30=np.percentile(idade,30)\n",
    "    i40=np.percentile(idade,40)\n",
    "    i50=np.percentile(idade,50)\n",
    "    i60=np.percentile(idade,60)\n",
    "    i70=np.percentile(idade,70)\n",
    "    i80=np.percentile(idade,80)\n",
    "    i90=np.percentile(idade,90)\n",
    "    i95=np.percentile(idade,95)\n",
    "    i99=np.percentile(idade,99)\n",
    "\n",
    "    print('\\033[1m' +\"\\nDistribuição da idade da população \"+ str(dataframe['Cor'][0])+ '\\033[0m')\n",
    "\n",
    "    print(\"\\n10th Percentile: \",i10)\n",
    "    #print(\"\\n20th Percentile: \",i20)\n",
    "    #print(\"\\n25th Percentile: \",i25)\n",
    "    print(\"\\n30th Percentile: \",i30)\n",
    "    #print(\"\\n40th Percentile: \",i40)\n",
    "    print(\"\\n50th Percentile: \",i50)\n",
    "    #print(\"\\n60th Percentile: \",i60)\n",
    "    #print(\"\\n70th Percentile: \",i70)\n",
    "    #print(\"\\n80th Percentile: \",i80)\n",
    "    #print(\"\\n90th Percentile: \",i90)\n",
    "    print(\"\\n95th Percentile: \",i95)\n",
    "    print(\"\\n99th Percentile: \",i99)"
   ]
  },
  {
   "cell_type": "code",
   "execution_count": 11,
   "id": "edcdd192",
   "metadata": {
    "execution": {
     "iopub.execute_input": "2022-03-01T23:30:22.834808Z",
     "iopub.status.busy": "2022-03-01T23:30:22.834258Z",
     "iopub.status.idle": "2022-03-01T23:30:22.846250Z",
     "shell.execute_reply": "2022-03-01T23:30:22.846686Z",
     "shell.execute_reply.started": "2022-03-01T23:28:53.132657Z"
    },
    "papermill": {
     "duration": 0.055673,
     "end_time": "2022-03-01T23:30:22.846868",
     "exception": false,
     "start_time": "2022-03-01T23:30:22.791195",
     "status": "completed"
    },
    "tags": []
   },
   "outputs": [],
   "source": [
    "def rend(dataframe):\n",
    "    \n",
    "    rend = dataframe['Redimentos de trabalho'].dropna().to_list()\n",
    "\n",
    "    rp10=np.percentile(rend,10)\n",
    "    rp20=np.percentile(rend,20)\n",
    "    rp25=np.percentile(rend,25)\n",
    "    rp30=np.percentile(rend,30)\n",
    "    rp40=np.percentile(rend,40)\n",
    "    rp50=np.percentile(rend,50)\n",
    "    rp60=np.percentile(rend,60)\n",
    "    rp70=np.percentile(rend,70)\n",
    "    rp80=np.percentile(rend,80)\n",
    "    rp90=np.percentile(rend,90)\n",
    "    rp95=np.percentile(rend,95)\n",
    "    rp99=np.percentile(rend,99)\n",
    "\n",
    "    print('\\033[1m' +'\\nRedimento de trabalho mensal da população ' + str(dataframe['Cor'][0])+ ' em reais'+ '\\033[0m')\n",
    "    print('\\033[1m' +'Quantidade de respondentes', str(len(rend)),'de',str(len(dataframe['Redimentos de trabalho'].to_list())) + '\\033[0m')\n",
    "\n",
    "    print(\"\\n10th Percentile: \",rp10)\n",
    "    #print(\"\\n20th Percentile: \",rp20)\n",
    "    #print(\"\\n25th Percentile: \",rp25)\n",
    "    print(\"\\n30th Percentile: \",rp30)\n",
    "    #print(\"\\n40th Percentile: \",rp40)\n",
    "    print(\"\\n50th Percentile: \",rp50)\n",
    "    #print(\"\\n60th Percentile: \",rp60)\n",
    "    #print(\"\\n70th Percentile: \",rp70)\n",
    "    #print(\"\\n80th Percentile: \",rp80)\n",
    "    #print(\"\\n90th Percentile: \",rp90)\n",
    "    print(\"\\n95th Percentile: \",rp95)\n",
    "    print(\"\\n99th Percentile: \",rp99)"
   ]
  },
  {
   "cell_type": "code",
   "execution_count": 12,
   "id": "96452c4a",
   "metadata": {
    "execution": {
     "iopub.execute_input": "2022-03-01T23:30:22.937470Z",
     "iopub.status.busy": "2022-03-01T23:30:22.936803Z",
     "iopub.status.idle": "2022-03-01T23:30:22.942606Z",
     "shell.execute_reply": "2022-03-01T23:30:22.943116Z",
     "shell.execute_reply.started": "2022-03-01T23:28:53.148240Z"
    },
    "papermill": {
     "duration": 0.055181,
     "end_time": "2022-03-01T23:30:22.943310",
     "exception": false,
     "start_time": "2022-03-01T23:30:22.888129",
     "status": "completed"
    },
    "tags": []
   },
   "outputs": [],
   "source": [
    "def dados(dataframe):\n",
    "    \n",
    "    cor = [\"Parda\",\"Branca\",\"Preta\",\"Amarela\",\"Indígena\",\"Ignorado\"]\n",
    "    \n",
    "    if age_2016[1:2].transpose().reset_index()['index'][1] == \"Idade\":\n",
    "\n",
    "        parda = dataframe[dataframe['Cor'].str.contains(cor[0])].reset_index(drop=True)\n",
    "        branca = dataframe[dataframe['Cor'].str.contains(cor[1])].reset_index(drop=True)\n",
    "        preta = dataframe[dataframe['Cor'].str.contains(cor[2])].reset_index(drop=True)\n",
    "        amarela = dataframe[dataframe['Cor'].str.contains(cor[3])].reset_index(drop=True)\n",
    "        indigena = dataframe[dataframe['Cor'].str.contains(cor[4])].reset_index(drop=True)\n",
    "        ignorado = dataframe[dataframe['Cor'].str.contains(cor[5])].reset_index(drop=True)\n",
    "        \n",
    "    else:\n",
    "        \n",
    "        parda = dataframe[dataframe['Cor'].str.contains(cor[0])].reset_index(drop=True).value_counts()\n",
    "        branca = dataframe[dataframe['Cor'].str.contains(cor[1])].reset_index(drop=True).value_counts()\n",
    "        preta = dataframe[dataframe['Cor'].str.contains(cor[2])].reset_index(drop=True).value_counts()\n",
    "        amarela = dataframe[dataframe['Cor'].str.contains(cor[3])].reset_index(drop=True).value_counts()\n",
    "        indigena = dataframe[dataframe['Cor'].str.contains(cor[4])].reset_index(drop=True).value_counts()\n",
    "        ignorado = dataframe[dataframe['Cor'].str.contains(cor[5])].reset_index(drop=True).value_counts()\n",
    "    \n",
    "    return parda, branca, preta, amarela, indigena, ignorado"
   ]
  },
  {
   "cell_type": "markdown",
   "id": "4c49674b",
   "metadata": {
    "papermill": {
     "duration": 0.040166,
     "end_time": "2022-03-01T23:30:23.024457",
     "exception": false,
     "start_time": "2022-03-01T23:30:22.984291",
     "status": "completed"
    },
    "tags": []
   },
   "source": [
    "# *Macro Analysis*"
   ]
  },
  {
   "cell_type": "code",
   "execution_count": 13,
   "id": "bc4e5d3f",
   "metadata": {
    "execution": {
     "iopub.execute_input": "2022-03-01T23:30:23.110293Z",
     "iopub.status.busy": "2022-03-01T23:30:23.109682Z",
     "iopub.status.idle": "2022-03-01T23:30:23.451986Z",
     "shell.execute_reply": "2022-03-01T23:30:23.451398Z",
     "shell.execute_reply.started": "2022-03-01T23:29:24.567275Z"
    },
    "papermill": {
     "duration": 0.386405,
     "end_time": "2022-03-01T23:30:23.452128",
     "exception": false,
     "start_time": "2022-03-01T23:30:23.065723",
     "status": "completed"
    },
    "tags": []
   },
   "outputs": [
    {
     "data": {
      "text/plain": [
       "Ano                         459718\n",
       "UF                          459718\n",
       "Sexo                        459718\n",
       "Idade                       459718\n",
       "Cor                         459718\n",
       "Le/escreve                  429498\n",
       "Educação atual              116928\n",
       "Educação feita              290642\n",
       "Profissao                   195611\n",
       "Economicamente ativa/não    368071\n",
       "Ocupado/não                 219067\n",
       "Redimentos de trabalho      187734\n",
       "dtype: int64"
      ]
     },
     "execution_count": 13,
     "metadata": {},
     "output_type": "execute_result"
    }
   ],
   "source": [
    "df_2016.count()"
   ]
  },
  {
   "cell_type": "code",
   "execution_count": 14,
   "id": "3281bd67",
   "metadata": {
    "execution": {
     "iopub.execute_input": "2022-03-01T23:30:23.538393Z",
     "iopub.status.busy": "2022-03-01T23:30:23.537737Z",
     "iopub.status.idle": "2022-03-01T23:30:23.867590Z",
     "shell.execute_reply": "2022-03-01T23:30:23.868020Z",
     "shell.execute_reply.started": "2022-03-01T23:29:30.853364Z"
    },
    "papermill": {
     "duration": 0.374198,
     "end_time": "2022-03-01T23:30:23.868202",
     "exception": false,
     "start_time": "2022-03-01T23:30:23.494004",
     "status": "completed"
    },
    "tags": []
   },
   "outputs": [
    {
     "data": {
      "text/plain": [
       "Ano                         443790\n",
       "UF                          443790\n",
       "Sexo                        443790\n",
       "Idade                       443790\n",
       "Cor                         443790\n",
       "Le/escreve                  415474\n",
       "Educação atual              108466\n",
       "Educação feita              289341\n",
       "Profissao                   189836\n",
       "Economicamente ativa/não    358990\n",
       "Ocupado/não                 213493\n",
       "Redimentos de trabalho      183075\n",
       "dtype: int64"
      ]
     },
     "execution_count": 14,
     "metadata": {},
     "output_type": "execute_result"
    }
   ],
   "source": [
    "df_2019.count()"
   ]
  },
  {
   "cell_type": "markdown",
   "id": "b34bddf8",
   "metadata": {
    "papermill": {
     "duration": 0.041412,
     "end_time": "2022-03-01T23:30:23.950407",
     "exception": false,
     "start_time": "2022-03-01T23:30:23.908995",
     "status": "completed"
    },
    "tags": []
   },
   "source": [
    "# **1. Cor**"
   ]
  },
  {
   "cell_type": "code",
   "execution_count": 15,
   "id": "b99f5a39",
   "metadata": {
    "execution": {
     "iopub.execute_input": "2022-03-01T23:30:24.037477Z",
     "iopub.status.busy": "2022-03-01T23:30:24.036801Z",
     "iopub.status.idle": "2022-03-01T23:30:24.346192Z",
     "shell.execute_reply": "2022-03-01T23:30:24.345609Z",
     "shell.execute_reply.started": "2022-03-01T23:28:53.196488Z"
    },
    "papermill": {
     "duration": 0.354066,
     "end_time": "2022-03-01T23:30:24.346317",
     "exception": false,
     "start_time": "2022-03-01T23:30:23.992251",
     "status": "completed"
    },
    "tags": []
   },
   "outputs": [],
   "source": [
    "cor_subset = df.filter(['Ano','Cor'])"
   ]
  },
  {
   "cell_type": "code",
   "execution_count": 16,
   "id": "7ce1b089",
   "metadata": {
    "execution": {
     "iopub.execute_input": "2022-03-01T23:30:24.434593Z",
     "iopub.status.busy": "2022-03-01T23:30:24.433969Z",
     "iopub.status.idle": "2022-03-01T23:30:24.586249Z",
     "shell.execute_reply": "2022-03-01T23:30:24.585228Z",
     "shell.execute_reply.started": "2022-03-01T23:28:53.644820Z"
    },
    "papermill": {
     "duration": 0.198445,
     "end_time": "2022-03-01T23:30:24.586985",
     "exception": false,
     "start_time": "2022-03-01T23:30:24.388540",
     "status": "completed"
    },
    "tags": []
   },
   "outputs": [
    {
     "data": {
      "text/html": [
       "<div>\n",
       "<style scoped>\n",
       "    .dataframe tbody tr th:only-of-type {\n",
       "        vertical-align: middle;\n",
       "    }\n",
       "\n",
       "    .dataframe tbody tr th {\n",
       "        vertical-align: top;\n",
       "    }\n",
       "\n",
       "    .dataframe thead th {\n",
       "        text-align: right;\n",
       "    }\n",
       "</style>\n",
       "<table border=\"1\" class=\"dataframe\">\n",
       "  <thead>\n",
       "    <tr style=\"text-align: right;\">\n",
       "      <th></th>\n",
       "      <th>index</th>\n",
       "      <th>2016</th>\n",
       "      <th>2019</th>\n",
       "    </tr>\n",
       "  </thead>\n",
       "  <tbody>\n",
       "    <tr>\n",
       "      <th>0</th>\n",
       "      <td>Parda</td>\n",
       "      <td>239357</td>\n",
       "      <td>229587</td>\n",
       "    </tr>\n",
       "    <tr>\n",
       "      <th>1</th>\n",
       "      <td>Branca</td>\n",
       "      <td>181528</td>\n",
       "      <td>170132</td>\n",
       "    </tr>\n",
       "    <tr>\n",
       "      <th>2</th>\n",
       "      <td>Preta</td>\n",
       "      <td>35218</td>\n",
       "      <td>39395</td>\n",
       "    </tr>\n",
       "    <tr>\n",
       "      <th>3</th>\n",
       "      <td>Amarela</td>\n",
       "      <td>1922</td>\n",
       "      <td>2350</td>\n",
       "    </tr>\n",
       "    <tr>\n",
       "      <th>4</th>\n",
       "      <td>Indigena</td>\n",
       "      <td>1672</td>\n",
       "      <td>2282</td>\n",
       "    </tr>\n",
       "    <tr>\n",
       "      <th>5</th>\n",
       "      <td>Ignorado</td>\n",
       "      <td>21</td>\n",
       "      <td>44</td>\n",
       "    </tr>\n",
       "  </tbody>\n",
       "</table>\n",
       "</div>"
      ],
      "text/plain": [
       "      index    2016    2019\n",
       "0     Parda  239357  229587\n",
       "1    Branca  181528  170132\n",
       "2     Preta   35218   39395\n",
       "3   Amarela    1922    2350\n",
       "4  Indigena    1672    2282\n",
       "5  Ignorado      21      44"
      ]
     },
     "execution_count": 16,
     "metadata": {},
     "output_type": "execute_result"
    }
   ],
   "source": [
    "cor_2016 = cor_subset.loc[cor_subset.Ano == 2016].value_counts().to_list()\n",
    "cor_2019 = cor_subset.loc[cor_subset.Ano == 2019].value_counts().to_list()\n",
    "\n",
    "cor = [\"Parda\",\"Branca\",\"Preta\",\"Amarela\",\"Indigena\",\"Ignorado\"]\n",
    "\n",
    "df_cor = pd.DataFrame([cor,cor_2016,cor_2019],index=[\"v\",\"2016\",\"2019\"])\n",
    "df_cor.rename(columns=df_cor.iloc[0], inplace = True)\n",
    "df_cor.drop(df_cor.index[0],inplace=True)\n",
    "\n",
    "t_cor = df_cor.transpose()\n",
    "t_cor.reset_index(inplace=True)\n",
    "\n",
    "t_cor"
   ]
  },
  {
   "cell_type": "code",
   "execution_count": 17,
   "id": "88d42ce7",
   "metadata": {
    "execution": {
     "iopub.execute_input": "2022-03-01T23:30:24.688363Z",
     "iopub.status.busy": "2022-03-01T23:30:24.687648Z",
     "iopub.status.idle": "2022-03-01T23:30:24.905549Z",
     "shell.execute_reply": "2022-03-01T23:30:24.904995Z",
     "shell.execute_reply.started": "2022-03-01T23:28:53.779254Z"
    },
    "papermill": {
     "duration": 0.270104,
     "end_time": "2022-03-01T23:30:24.905666",
     "exception": false,
     "start_time": "2022-03-01T23:30:24.635562",
     "status": "completed"
    },
    "tags": []
   },
   "outputs": [
    {
     "data": {
      "text/plain": [
       "Text(0, 0.5, 'Quantidade')"
      ]
     },
     "execution_count": 17,
     "metadata": {},
     "output_type": "execute_result"
    },
    {
     "data": {
      "image/png": "[encoded data removed]",
      "text/plain": [
       "<Figure size 432x288 with 1 Axes>"
      ]
     },
     "metadata": {
      "needs_background": "light"
     },
     "output_type": "display_data"
    }
   ],
   "source": [
    "ax = t_cor.plot.bar(x='index', rot=0)\n",
    "\n",
    "ax.set_xlabel(\"Cor\")\n",
    "ax.set_ylabel(\"Quantidade\")"
   ]
  },
  {
   "cell_type": "markdown",
   "id": "f61449a8",
   "metadata": {
    "papermill": {
     "duration": 0.043483,
     "end_time": "2022-03-01T23:30:24.992778",
     "exception": false,
     "start_time": "2022-03-01T23:30:24.949295",
     "status": "completed"
    },
    "tags": []
   },
   "source": [
    "# **2. Idade**"
   ]
  },
  {
   "cell_type": "code",
   "execution_count": 18,
   "id": "bda7db5d",
   "metadata": {
    "execution": {
     "iopub.execute_input": "2022-03-01T23:30:25.090504Z",
     "iopub.status.busy": "2022-03-01T23:30:25.089869Z",
     "iopub.status.idle": "2022-03-01T23:30:27.071390Z",
     "shell.execute_reply": "2022-03-01T23:30:27.070883Z",
     "shell.execute_reply.started": "2022-03-01T23:28:54.029883Z"
    },
    "papermill": {
     "duration": 2.034628,
     "end_time": "2022-03-01T23:30:27.071513",
     "exception": false,
     "start_time": "2022-03-01T23:30:25.036885",
     "status": "completed"
    },
    "tags": []
   },
   "outputs": [],
   "source": [
    "age_subset = df.filter(['Ano','Cor','Idade'])\n",
    "\n",
    "age_2016 = age_subset.loc[age_subset.Ano == 2016].drop(['Ano'],axis=1)\n",
    "age_2019 = age_subset.loc[age_subset.Ano == 2019].drop(['Ano'],axis=1)\n",
    "\n",
    "df_age16 = dados(age_2016)\n",
    "df_age19 = dados(age_2019)"
   ]
  },
  {
   "cell_type": "markdown",
   "id": "06288f53",
   "metadata": {
    "papermill": {
     "duration": 0.044179,
     "end_time": "2022-03-01T23:30:27.160707",
     "exception": false,
     "start_time": "2022-03-01T23:30:27.116528",
     "status": "completed"
    },
    "tags": []
   },
   "source": [
    "**2016**"
   ]
  },
  {
   "cell_type": "code",
   "execution_count": 19,
   "id": "d72dd808",
   "metadata": {
    "execution": {
     "iopub.execute_input": "2022-03-01T23:30:27.272499Z",
     "iopub.status.busy": "2022-03-01T23:30:27.271805Z",
     "iopub.status.idle": "2022-03-01T23:30:28.728862Z",
     "shell.execute_reply": "2022-03-01T23:30:28.727754Z",
     "shell.execute_reply.started": "2022-03-01T23:28:55.834740Z"
    },
    "papermill": {
     "duration": 1.523392,
     "end_time": "2022-03-01T23:30:28.729066",
     "exception": false,
     "start_time": "2022-03-01T23:30:27.205674",
     "status": "completed"
    },
    "tags": []
   },
   "outputs": [
    {
     "name": "stdout",
     "output_type": "stream",
     "text": [
      "\u001b[1m\n",
      "Distribuição da idade da população Parda\u001b[0m\n",
      "\n",
      "10th Percentile:  7.0\n",
      "\n",
      "30th Percentile:  18.0\n",
      "\n",
      "50th Percentile:  30.0\n",
      "\n",
      "95th Percentile:  69.0\n",
      "\n",
      "99th Percentile:  82.0\n",
      "None\n",
      "\u001b[1m\n",
      "Distribuição da idade da população Branca\u001b[0m\n",
      "\n",
      "10th Percentile:  7.0\n",
      "\n",
      "30th Percentile:  21.0\n",
      "\n",
      "50th Percentile:  35.0\n",
      "\n",
      "95th Percentile:  74.0\n",
      "\n",
      "99th Percentile:  85.0\n",
      "None\n",
      "\u001b[1m\n",
      "Distribuição da idade da população Preta\u001b[0m\n",
      "\n",
      "10th Percentile:  10.0\n",
      "\n",
      "30th Percentile:  23.0\n",
      "\n",
      "50th Percentile:  35.0\n",
      "\n",
      "95th Percentile:  71.0\n",
      "\n",
      "99th Percentile:  83.83000000000175\n",
      "None\n",
      "\u001b[1m\n",
      "Distribuição da idade da população Amarela\u001b[0m\n",
      "\n",
      "10th Percentile:  12.0\n",
      "\n",
      "30th Percentile:  27.0\n",
      "\n",
      "50th Percentile:  39.0\n",
      "\n",
      "95th Percentile:  77.0\n",
      "\n",
      "99th Percentile:  87.0\n",
      "None\n",
      "\u001b[1m\n",
      "Distribuição da idade da população Indígena\u001b[0m\n",
      "\n",
      "10th Percentile:  6.0\n",
      "\n",
      "30th Percentile:  17.0\n",
      "\n",
      "50th Percentile:  29.0\n",
      "\n",
      "95th Percentile:  71.0\n",
      "\n",
      "99th Percentile:  84.0\n",
      "None\n"
     ]
    }
   ],
   "source": [
    "age = dados(age_2016)\n",
    "for i in range(0,len(age)-1):\n",
    "    print(idade(age[i]))"
   ]
  },
  {
   "cell_type": "markdown",
   "id": "68265bd4",
   "metadata": {
    "papermill": {
     "duration": 0.044478,
     "end_time": "2022-03-01T23:30:28.817693",
     "exception": false,
     "start_time": "2022-03-01T23:30:28.773215",
     "status": "completed"
    },
    "tags": []
   },
   "source": [
    "**2019**"
   ]
  },
  {
   "cell_type": "code",
   "execution_count": 20,
   "id": "880a8ec4",
   "metadata": {
    "execution": {
     "iopub.execute_input": "2022-03-01T23:30:28.927110Z",
     "iopub.status.busy": "2022-03-01T23:30:28.926402Z",
     "iopub.status.idle": "2022-03-01T23:30:30.191373Z",
     "shell.execute_reply": "2022-03-01T23:30:30.190460Z",
     "shell.execute_reply.started": "2022-03-01T23:28:57.275177Z"
    },
    "papermill": {
     "duration": 1.329802,
     "end_time": "2022-03-01T23:30:30.191563",
     "exception": false,
     "start_time": "2022-03-01T23:30:28.861761",
     "status": "completed"
    },
    "tags": []
   },
   "outputs": [
    {
     "name": "stdout",
     "output_type": "stream",
     "text": [
      "\u001b[1m\n",
      "Distribuição da idade da população Parda\u001b[0m\n",
      "\n",
      "10th Percentile:  7.0\n",
      "\n",
      "30th Percentile:  19.0\n",
      "\n",
      "50th Percentile:  32.0\n",
      "\n",
      "95th Percentile:  71.0\n",
      "\n",
      "99th Percentile:  83.0\n",
      "None\n",
      "\u001b[1m\n",
      "Distribuição da idade da população Branca\u001b[0m\n",
      "\n",
      "10th Percentile:  7.0\n",
      "\n",
      "30th Percentile:  22.0\n",
      "\n",
      "50th Percentile:  36.0\n",
      "\n",
      "95th Percentile:  75.0\n",
      "\n",
      "99th Percentile:  86.0\n",
      "None\n",
      "\u001b[1m\n",
      "Distribuição da idade da população Preta\u001b[0m\n",
      "\n",
      "10th Percentile:  10.0\n",
      "\n",
      "30th Percentile:  24.0\n",
      "\n",
      "50th Percentile:  36.0\n",
      "\n",
      "95th Percentile:  72.0\n",
      "\n",
      "99th Percentile:  84.0\n",
      "None\n",
      "\u001b[1m\n",
      "Distribuição da idade da população Amarela\u001b[0m\n",
      "\n",
      "10th Percentile:  11.0\n",
      "\n",
      "30th Percentile:  26.0\n",
      "\n",
      "50th Percentile:  37.0\n",
      "\n",
      "95th Percentile:  77.0\n",
      "\n",
      "99th Percentile:  88.0\n",
      "None\n",
      "\u001b[1m\n",
      "Distribuição da idade da população Indígena\u001b[0m\n",
      "\n",
      "10th Percentile:  7.0\n",
      "\n",
      "30th Percentile:  18.0\n",
      "\n",
      "50th Percentile:  30.0\n",
      "\n",
      "95th Percentile:  70.0\n",
      "\n",
      "99th Percentile:  83.0\n",
      "None\n"
     ]
    }
   ],
   "source": [
    "age = dados(age_2019)\n",
    "for i in range(0,len(age)-1):\n",
    "    print(idade(age[i]))"
   ]
  },
  {
   "cell_type": "markdown",
   "id": "72efe5db",
   "metadata": {
    "papermill": {
     "duration": 0.068097,
     "end_time": "2022-03-01T23:30:30.328528",
     "exception": false,
     "start_time": "2022-03-01T23:30:30.260431",
     "status": "completed"
    },
    "tags": []
   },
   "source": [
    "# **3. UF**"
   ]
  },
  {
   "cell_type": "code",
   "execution_count": 21,
   "id": "b8711d39",
   "metadata": {
    "execution": {
     "iopub.execute_input": "2022-03-01T23:30:30.474384Z",
     "iopub.status.busy": "2022-03-01T23:30:30.473455Z",
     "iopub.status.idle": "2022-03-01T23:30:30.562387Z",
     "shell.execute_reply": "2022-03-01T23:30:30.561529Z",
     "shell.execute_reply.started": "2022-03-01T23:28:58.544704Z"
    },
    "papermill": {
     "duration": 0.165475,
     "end_time": "2022-03-01T23:30:30.562553",
     "exception": false,
     "start_time": "2022-03-01T23:30:30.397078",
     "status": "completed"
    },
    "tags": []
   },
   "outputs": [],
   "source": [
    "uf_subset = df.filter(['Ano','Cor','UF'])\n",
    "\n",
    "uf_2016 = uf_subset.loc[uf_subset.Ano == 2016].drop(['Ano'],axis=1)\n",
    "uf_2019 = uf_subset.loc[uf_subset.Ano == 2019].drop(['Ano'],axis=1)"
   ]
  },
  {
   "cell_type": "markdown",
   "id": "67a3fddb",
   "metadata": {
    "papermill": {
     "duration": 0.069054,
     "end_time": "2022-03-01T23:30:30.701564",
     "exception": false,
     "start_time": "2022-03-01T23:30:30.632510",
     "status": "completed"
    },
    "tags": []
   },
   "source": [
    "**2016**"
   ]
  },
  {
   "cell_type": "code",
   "execution_count": 22,
   "id": "be3df0c9",
   "metadata": {
    "execution": {
     "iopub.execute_input": "2022-03-01T23:30:30.864399Z",
     "iopub.status.busy": "2022-03-01T23:30:30.863759Z",
     "iopub.status.idle": "2022-03-01T23:30:31.905027Z",
     "shell.execute_reply": "2022-03-01T23:30:31.904505Z",
     "shell.execute_reply.started": "2022-03-01T23:28:58.635673Z"
    },
    "papermill": {
     "duration": 1.13354,
     "end_time": "2022-03-01T23:30:31.905155",
     "exception": false,
     "start_time": "2022-03-01T23:30:30.771615",
     "status": "completed"
    },
    "tags": []
   },
   "outputs": [
    {
     "name": "stdout",
     "output_type": "stream",
     "text": [
      "Cor    UF          \n",
      "Parda  Maranhão        22285\n",
      "       Minas Gerais    16853\n",
      "       Ceará           16807\n",
      "dtype: int64\n",
      "Cor     UF               \n",
      "Branca  Santa Catarina       22751\n",
      "        São Paulo            21422\n",
      "        Rio Grande do Sul    19536\n",
      "dtype: int64\n",
      "Cor    UF            \n",
      "Preta  Bahia             4544\n",
      "       Rio de Janeiro    4489\n",
      "       Minas Gerais      3463\n",
      "dtype: int64\n",
      "Cor      UF       \n",
      "Amarela  São Paulo    543\n",
      "         Paraná       230\n",
      "         Goiás         97\n",
      "dtype: int64\n",
      "Cor       UF      \n",
      "Indígena  Roraima     325\n",
      "          Amazonas    277\n",
      "          Bahia       122\n",
      "dtype: int64\n"
     ]
    }
   ],
   "source": [
    "uf16 = dados(uf_2016)\n",
    "for i in range(0,len(uf16)-1):\n",
    "    print(uf16[i].value_counts().head(3))"
   ]
  },
  {
   "cell_type": "markdown",
   "id": "0ab41069",
   "metadata": {
    "papermill": {
     "duration": 0.044628,
     "end_time": "2022-03-01T23:30:31.995481",
     "exception": false,
     "start_time": "2022-03-01T23:30:31.950853",
     "status": "completed"
    },
    "tags": []
   },
   "source": [
    "**2019**"
   ]
  },
  {
   "cell_type": "code",
   "execution_count": 23,
   "id": "31db28cc",
   "metadata": {
    "execution": {
     "iopub.execute_input": "2022-03-01T23:30:32.109493Z",
     "iopub.status.busy": "2022-03-01T23:30:32.089380Z",
     "iopub.status.idle": "2022-03-01T23:30:33.125538Z",
     "shell.execute_reply": "2022-03-01T23:30:33.124842Z",
     "shell.execute_reply.started": "2022-03-01T23:28:59.627853Z"
    },
    "papermill": {
     "duration": 1.085342,
     "end_time": "2022-03-01T23:30:33.125693",
     "exception": false,
     "start_time": "2022-03-01T23:30:32.040351",
     "status": "completed"
    },
    "tags": []
   },
   "outputs": [
    {
     "name": "stdout",
     "output_type": "stream",
     "text": [
      "Cor    UF          \n",
      "Parda  Maranhão        21269\n",
      "       Minas Gerais    16408\n",
      "       Ceará           15607\n",
      "dtype: int64\n",
      "Cor     UF               \n",
      "Branca  Santa Catarina       21440\n",
      "        São Paulo            19954\n",
      "        Rio Grande do Sul    18196\n",
      "dtype: int64\n",
      "Cor    UF            \n",
      "Preta  Bahia             4979\n",
      "       Rio de Janeiro    4327\n",
      "       Maranhão          3888\n",
      "dtype: int64\n",
      "Cor      UF       \n",
      "Amarela  São Paulo    528\n",
      "         Paraná       255\n",
      "         Maranhão     150\n",
      "dtype: int64\n",
      "Cor       UF      \n",
      "Indígena  Amazonas    515\n",
      "          Roraima     314\n",
      "          Maranhão    119\n",
      "dtype: int64\n"
     ]
    }
   ],
   "source": [
    "uf19 = dados(uf_2019)\n",
    "for i in range(0,len(uf19)-1):\n",
    "    print(uf19[i].value_counts().head(3))"
   ]
  },
  {
   "cell_type": "markdown",
   "id": "e5455bd3",
   "metadata": {
    "papermill": {
     "duration": 0.046147,
     "end_time": "2022-03-01T23:30:33.216684",
     "exception": false,
     "start_time": "2022-03-01T23:30:33.170537",
     "status": "completed"
    },
    "tags": []
   },
   "source": [
    "# **4. Educação Feita**"
   ]
  },
  {
   "cell_type": "code",
   "execution_count": 24,
   "id": "cc79b297",
   "metadata": {
    "execution": {
     "iopub.execute_input": "2022-03-01T23:30:33.315919Z",
     "iopub.status.busy": "2022-03-01T23:30:33.315181Z",
     "iopub.status.idle": "2022-03-01T23:30:33.351232Z",
     "shell.execute_reply": "2022-03-01T23:30:33.350657Z",
     "shell.execute_reply.started": "2022-03-01T23:29:00.577575Z"
    },
    "papermill": {
     "duration": 0.089965,
     "end_time": "2022-03-01T23:30:33.351358",
     "exception": false,
     "start_time": "2022-03-01T23:30:33.261393",
     "status": "completed"
    },
    "tags": []
   },
   "outputs": [],
   "source": [
    "ef_subset = df.filter(['Ano','Cor','Educação feita'])"
   ]
  },
  {
   "cell_type": "code",
   "execution_count": 25,
   "id": "daa75c2b",
   "metadata": {
    "execution": {
     "iopub.execute_input": "2022-03-01T23:30:33.468792Z",
     "iopub.status.busy": "2022-03-01T23:30:33.467881Z",
     "iopub.status.idle": "2022-03-01T23:30:33.527426Z",
     "shell.execute_reply": "2022-03-01T23:30:33.528038Z",
     "shell.execute_reply.started": "2022-03-01T23:29:00.621147Z"
    },
    "papermill": {
     "duration": 0.131689,
     "end_time": "2022-03-01T23:30:33.528245",
     "exception": false,
     "start_time": "2022-03-01T23:30:33.396556",
     "status": "completed"
    },
    "tags": []
   },
   "outputs": [],
   "source": [
    "ef_2016 = ef_subset.loc[ef_subset.Ano == 2016].drop(['Ano'],axis=1)\n",
    "ef_2019 = ef_subset.loc[ef_subset.Ano == 2019].drop(['Ano'],axis=1)"
   ]
  },
  {
   "cell_type": "markdown",
   "id": "862f0220",
   "metadata": {
    "papermill": {
     "duration": 0.068791,
     "end_time": "2022-03-01T23:30:33.667012",
     "exception": false,
     "start_time": "2022-03-01T23:30:33.598221",
     "status": "completed"
    },
    "tags": []
   },
   "source": [
    "**2016**"
   ]
  },
  {
   "cell_type": "code",
   "execution_count": 26,
   "id": "defb06a0",
   "metadata": {
    "execution": {
     "iopub.execute_input": "2022-03-01T23:30:33.810306Z",
     "iopub.status.busy": "2022-03-01T23:30:33.809417Z",
     "iopub.status.idle": "2022-03-01T23:30:34.867908Z",
     "shell.execute_reply": "2022-03-01T23:30:34.868422Z",
     "shell.execute_reply.started": "2022-03-01T23:29:00.688802Z"
    },
    "papermill": {
     "duration": 1.131889,
     "end_time": "2022-03-01T23:30:34.868586",
     "exception": false,
     "start_time": "2022-03-01T23:30:33.736697",
     "status": "completed"
    },
    "tags": []
   },
   "outputs": [
    {
     "name": "stdout",
     "output_type": "stream",
     "text": [
      "Cor    Educação feita                             \n",
      "Parda  Regular do ensino fundamental ou do 1º grau    53790\n",
      "       Regular do ensino médio ou do 2º grau          49256\n",
      "       Antigo primário (elementar)                    16526\n",
      "dtype: int64\n",
      "Cor     Educação feita                             \n",
      "Branca  Regular do ensino médio ou do 2º grau          37985\n",
      "        Regular do ensino fundamental ou do 1º grau    30488\n",
      "        Superior - graduação                           19871\n",
      "dtype: int64\n",
      "Cor    Educação feita                             \n",
      "Preta  Regular do ensino médio ou do 2º grau          8540\n",
      "       Regular do ensino fundamental ou do 1º grau    8378\n",
      "       Antigo primário (elementar)                    2785\n",
      "dtype: int64\n",
      "Cor      Educação feita                             \n",
      "Amarela  Regular do ensino médio ou do 2º grau          425\n",
      "         Superior - graduação                           413\n",
      "         Regular do ensino fundamental ou do 1º grau    230\n",
      "dtype: int64\n",
      "Cor       Educação feita                             \n",
      "Indígena  Regular do ensino fundamental ou do 1º grau    357\n",
      "          Regular do ensino médio ou do 2º grau          287\n",
      "          Antigo primário (elementar)                     92\n",
      "dtype: int64\n"
     ]
    }
   ],
   "source": [
    "ef16 = dados(ef_2016)\n",
    "for i in range(0,len(ef16)-1):\n",
    "    print(ef16[i].value_counts().head(3))"
   ]
  },
  {
   "cell_type": "code",
   "execution_count": 27,
   "id": "b2b3bdaa",
   "metadata": {
    "execution": {
     "iopub.execute_input": "2022-03-01T23:30:35.006826Z",
     "iopub.status.busy": "2022-03-01T23:30:34.981504Z",
     "iopub.status.idle": "2022-03-01T23:30:35.987208Z",
     "shell.execute_reply": "2022-03-01T23:30:35.986524Z",
     "shell.execute_reply.started": "2022-03-01T23:29:01.682267Z"
    },
    "papermill": {
     "duration": 1.073164,
     "end_time": "2022-03-01T23:30:35.987364",
     "exception": false,
     "start_time": "2022-03-01T23:30:34.914200",
     "status": "completed"
    },
    "tags": []
   },
   "outputs": [
    {
     "name": "stdout",
     "output_type": "stream",
     "text": [
      "Cor    Educação feita                             \n",
      "Parda  Regular do ensino médio ou do 2º grau          50637\n",
      "       Regular do ensino fundamental ou do 1º grau    48713\n",
      "       Antigo primário (elementar)                    15315\n",
      "dtype: int64\n",
      "Cor     Educação feita                             \n",
      "Branca  Regular do ensino médio ou do 2º grau          36108\n",
      "        Regular do ensino fundamental ou do 1º grau    27035\n",
      "        Superior - graduação                           19513\n",
      "dtype: int64\n",
      "Cor    Educação feita                             \n",
      "Preta  Regular do ensino médio ou do 2º grau          10002\n",
      "       Regular do ensino fundamental ou do 1º grau     8962\n",
      "       Antigo primário (elementar)                     2935\n",
      "dtype: int64\n",
      "Cor      Educação feita                             \n",
      "Amarela  Regular do ensino médio ou do 2º grau          526\n",
      "         Superior - graduação                           382\n",
      "         Regular do ensino fundamental ou do 1º grau    343\n",
      "dtype: int64\n",
      "Cor       Educação feita                             \n",
      "Indígena  Regular do ensino fundamental ou do 1º grau    516\n",
      "          Regular do ensino médio ou do 2º grau          469\n",
      "          Superior - graduação                           129\n",
      "dtype: int64\n"
     ]
    }
   ],
   "source": [
    "ef19 = dados(ef_2019)\n",
    "for i in range(0,len(ef19)-1):\n",
    "    print(ef19[i].value_counts().head(3))"
   ]
  },
  {
   "cell_type": "markdown",
   "id": "113c0f49",
   "metadata": {
    "papermill": {
     "duration": 0.046924,
     "end_time": "2022-03-01T23:30:36.082851",
     "exception": false,
     "start_time": "2022-03-01T23:30:36.035927",
     "status": "completed"
    },
    "tags": []
   },
   "source": [
    "# **5. Profissão**"
   ]
  },
  {
   "cell_type": "code",
   "execution_count": 28,
   "id": "c61f1a75",
   "metadata": {
    "execution": {
     "iopub.execute_input": "2022-03-01T23:30:36.181508Z",
     "iopub.status.busy": "2022-03-01T23:30:36.180888Z",
     "iopub.status.idle": "2022-03-01T23:30:36.203430Z",
     "shell.execute_reply": "2022-03-01T23:30:36.202743Z",
     "shell.execute_reply.started": "2022-03-01T23:29:02.647131Z"
    },
    "papermill": {
     "duration": 0.075195,
     "end_time": "2022-03-01T23:30:36.203572",
     "exception": false,
     "start_time": "2022-03-01T23:30:36.128377",
     "status": "completed"
    },
    "tags": []
   },
   "outputs": [],
   "source": [
    "p_subset = df.filter(['Ano','Cor','Profissao'])"
   ]
  },
  {
   "cell_type": "code",
   "execution_count": 29,
   "id": "e8560df8",
   "metadata": {
    "execution": {
     "iopub.execute_input": "2022-03-01T23:30:36.306685Z",
     "iopub.status.busy": "2022-03-01T23:30:36.305918Z",
     "iopub.status.idle": "2022-03-01T23:30:36.367570Z",
     "shell.execute_reply": "2022-03-01T23:30:36.367075Z",
     "shell.execute_reply.started": "2022-03-01T23:29:02.688480Z"
    },
    "papermill": {
     "duration": 0.115311,
     "end_time": "2022-03-01T23:30:36.367709",
     "exception": false,
     "start_time": "2022-03-01T23:30:36.252398",
     "status": "completed"
    },
    "tags": []
   },
   "outputs": [],
   "source": [
    "p_2016 = p_subset.loc[p_subset.Ano == 2016].drop(['Ano'],axis=1)\n",
    "p_2019 = p_subset.loc[p_subset.Ano == 2019].drop(['Ano'],axis=1)"
   ]
  },
  {
   "cell_type": "markdown",
   "id": "cec1ffe8",
   "metadata": {
    "papermill": {
     "duration": 0.045764,
     "end_time": "2022-03-01T23:30:36.460868",
     "exception": false,
     "start_time": "2022-03-01T23:30:36.415104",
     "status": "completed"
    },
    "tags": []
   },
   "source": [
    "**2016**"
   ]
  },
  {
   "cell_type": "code",
   "execution_count": 30,
   "id": "bd28bf68",
   "metadata": {
    "execution": {
     "iopub.execute_input": "2022-03-01T23:30:36.556424Z",
     "iopub.status.busy": "2022-03-01T23:30:36.555711Z",
     "iopub.status.idle": "2022-03-01T23:30:37.586453Z",
     "shell.execute_reply": "2022-03-01T23:30:37.585703Z",
     "shell.execute_reply.started": "2022-03-01T23:29:02.757939Z"
    },
    "papermill": {
     "duration": 1.079379,
     "end_time": "2022-03-01T23:30:37.586615",
     "exception": false,
     "start_time": "2022-03-01T23:30:36.507236",
     "status": "completed"
    },
    "tags": []
   },
   "outputs": [
    {
     "name": "stdout",
     "output_type": "stream",
     "text": [
      "Cor    Profissao\n",
      "Parda  9111.0       5835\n",
      "       6111.0       5824\n",
      "       9211.0       4332\n",
      "dtype: int64\n",
      "Cor     Profissao\n",
      "Branca  6111.0       4745\n",
      "        5223.0       3461\n",
      "        9111.0       3289\n",
      "dtype: int64\n",
      "Cor    Profissao\n",
      "Preta  9111.0       1304\n",
      "       6111.0        815\n",
      "       7112.0        775\n",
      "dtype: int64\n",
      "Cor      Profissao\n",
      "Amarela  5221.0       63\n",
      "         6111.0       47\n",
      "         5223.0       42\n",
      "dtype: int64\n",
      "Cor       Profissao\n",
      "Indígena  6111.0       63\n",
      "          9111.0       60\n",
      "          9211.0       28\n",
      "dtype: int64\n"
     ]
    }
   ],
   "source": [
    "p16 = dados(p_2016)\n",
    "for i in range(0,len(p16)-1):\n",
    "    print(p16[i].value_counts().head(3))"
   ]
  },
  {
   "cell_type": "markdown",
   "id": "53dddd51",
   "metadata": {
    "papermill": {
     "duration": 0.046875,
     "end_time": "2022-03-01T23:30:37.680611",
     "exception": false,
     "start_time": "2022-03-01T23:30:37.633736",
     "status": "completed"
    },
    "tags": []
   },
   "source": [
    "**2019**"
   ]
  },
  {
   "cell_type": "code",
   "execution_count": 31,
   "id": "deead980",
   "metadata": {
    "execution": {
     "iopub.execute_input": "2022-03-01T23:30:37.780198Z",
     "iopub.status.busy": "2022-03-01T23:30:37.779326Z",
     "iopub.status.idle": "2022-03-01T23:30:38.784010Z",
     "shell.execute_reply": "2022-03-01T23:30:38.783098Z",
     "shell.execute_reply.started": "2022-03-01T23:29:03.775257Z"
    },
    "papermill": {
     "duration": 1.05672,
     "end_time": "2022-03-01T23:30:38.784178",
     "exception": false,
     "start_time": "2022-03-01T23:30:37.727458",
     "status": "completed"
    },
    "tags": []
   },
   "outputs": [
    {
     "name": "stdout",
     "output_type": "stream",
     "text": [
      "Cor    Profissao\n",
      "Parda  9111.0       5835\n",
      "       6111.0       5824\n",
      "       9211.0       4332\n",
      "dtype: int64\n",
      "Cor     Profissao\n",
      "Branca  6111.0       4745\n",
      "        5223.0       3461\n",
      "        9111.0       3289\n",
      "dtype: int64\n",
      "Cor    Profissao\n",
      "Preta  9111.0       1304\n",
      "       6111.0        815\n",
      "       7112.0        775\n",
      "dtype: int64\n",
      "Cor      Profissao\n",
      "Amarela  5221.0       63\n",
      "         6111.0       47\n",
      "         5223.0       42\n",
      "dtype: int64\n",
      "Cor       Profissao\n",
      "Indígena  6111.0       63\n",
      "          9111.0       60\n",
      "          9211.0       28\n",
      "dtype: int64\n"
     ]
    }
   ],
   "source": [
    "p16 = dados(p_2016)\n",
    "for i in range(0,len(p16)-1):\n",
    "    print(p16[i].value_counts().head(3))"
   ]
  },
  {
   "cell_type": "code",
   "execution_count": 32,
   "id": "72a2bbdc",
   "metadata": {
    "execution": {
     "iopub.execute_input": "2022-03-01T23:30:38.882087Z",
     "iopub.status.busy": "2022-03-01T23:30:38.881361Z",
     "iopub.status.idle": "2022-03-01T23:30:38.883633Z",
     "shell.execute_reply": "2022-03-01T23:30:38.883209Z",
     "shell.execute_reply.started": "2022-03-01T23:29:04.730774Z"
    },
    "papermill": {
     "duration": 0.052119,
     "end_time": "2022-03-01T23:30:38.883748",
     "exception": false,
     "start_time": "2022-03-01T23:30:38.831629",
     "status": "completed"
    },
    "tags": []
   },
   "outputs": [],
   "source": [
    "#pd.set_option(\"display.max_rows\", None, \"display.max_columns\", None)\n",
    "#p16[0].value_counts().head(5)"
   ]
  },
  {
   "cell_type": "markdown",
   "id": "7e6c5892",
   "metadata": {
    "papermill": {
     "duration": 0.045996,
     "end_time": "2022-03-01T23:30:38.975910",
     "exception": false,
     "start_time": "2022-03-01T23:30:38.929914",
     "status": "completed"
    },
    "tags": []
   },
   "source": [
    "# **6. Rendimento de trabalho**"
   ]
  },
  {
   "cell_type": "code",
   "execution_count": 33,
   "id": "72a58a6d",
   "metadata": {
    "execution": {
     "iopub.execute_input": "2022-03-01T23:30:39.093011Z",
     "iopub.status.busy": "2022-03-01T23:30:39.091868Z",
     "iopub.status.idle": "2022-03-01T23:30:39.099781Z",
     "shell.execute_reply": "2022-03-01T23:30:39.100274Z",
     "shell.execute_reply.started": "2022-03-01T23:29:04.737079Z"
    },
    "papermill": {
     "duration": 0.078642,
     "end_time": "2022-03-01T23:30:39.100443",
     "exception": false,
     "start_time": "2022-03-01T23:30:39.021801",
     "status": "completed"
    },
    "tags": []
   },
   "outputs": [],
   "source": [
    "rt_subset = df.filter(['Ano','Cor','Redimentos de trabalho'])"
   ]
  },
  {
   "cell_type": "code",
   "execution_count": 34,
   "id": "e34d246d",
   "metadata": {
    "execution": {
     "iopub.execute_input": "2022-03-01T23:30:39.220309Z",
     "iopub.status.busy": "2022-03-01T23:30:39.219616Z",
     "iopub.status.idle": "2022-03-01T23:30:39.300314Z",
     "shell.execute_reply": "2022-03-01T23:30:39.299801Z",
     "shell.execute_reply.started": "2022-03-01T23:29:04.780553Z"
    },
    "papermill": {
     "duration": 0.147799,
     "end_time": "2022-03-01T23:30:39.300454",
     "exception": false,
     "start_time": "2022-03-01T23:30:39.152655",
     "status": "completed"
    },
    "tags": []
   },
   "outputs": [],
   "source": [
    "rt_2016 = rt_subset.loc[rt_subset.Ano == 2016].drop(['Ano'],axis=1)\n",
    "rt_2019 = rt_subset.loc[rt_subset.Ano == 2019].drop(['Ano'],axis=1)"
   ]
  },
  {
   "cell_type": "code",
   "execution_count": 35,
   "id": "22911329",
   "metadata": {
    "execution": {
     "iopub.execute_input": "2022-03-01T23:30:39.513755Z",
     "iopub.status.busy": "2022-03-01T23:30:39.442996Z",
     "iopub.status.idle": "2022-03-01T23:30:41.592960Z",
     "shell.execute_reply": "2022-03-01T23:30:41.592307Z",
     "shell.execute_reply.started": "2022-03-01T23:29:04.852105Z"
    },
    "papermill": {
     "duration": 2.246921,
     "end_time": "2022-03-01T23:30:41.593133",
     "exception": false,
     "start_time": "2022-03-01T23:30:39.346212",
     "status": "completed"
    },
    "tags": []
   },
   "outputs": [
    {
     "name": "stdout",
     "output_type": "stream",
     "text": [
      "\u001b[1m\n",
      "Redimento de trabalho mensal da população Parda em reais\u001b[0m\n",
      "\u001b[1mQuantidade de respondentes 90822 de 239357\u001b[0m\n",
      "\n",
      "10th Percentile:  200.0\n",
      "\n",
      "30th Percentile:  800.0\n",
      "\n",
      "50th Percentile:  914.5\n",
      "\n",
      "95th Percentile:  4000.0\n",
      "\n",
      "99th Percentile:  8839.49999999968\n",
      "None\n",
      "\u001b[1m\n",
      "Redimento de trabalho mensal da população Branca em reais\u001b[0m\n",
      "\u001b[1mQuantidade de respondentes 79271 de 181528\u001b[0m\n",
      "\n",
      "10th Percentile:  500.0\n",
      "\n",
      "30th Percentile:  1000.0\n",
      "\n",
      "50th Percentile:  1500.0\n",
      "\n",
      "95th Percentile:  8000.0\n",
      "\n",
      "99th Percentile:  17000.0\n",
      "None\n",
      "\u001b[1m\n",
      "Redimento de trabalho mensal da população Preta em reais\u001b[0m\n",
      "\u001b[1mQuantidade de respondentes 16113 de 35218\u001b[0m\n",
      "\n",
      "10th Percentile:  250.0\n",
      "\n",
      "30th Percentile:  850.0\n",
      "\n",
      "50th Percentile:  1000.0\n",
      "\n",
      "95th Percentile:  4000.0\n",
      "\n",
      "99th Percentile:  8000.0\n",
      "None\n",
      "\u001b[1m\n",
      "Redimento de trabalho mensal da população Amarela em reais\u001b[0m\n",
      "\u001b[1mQuantidade de respondentes 888 de 1922\u001b[0m\n",
      "\n",
      "10th Percentile:  500.0\n",
      "\n",
      "30th Percentile:  1000.0\n",
      "\n",
      "50th Percentile:  1800.0\n",
      "\n",
      "95th Percentile:  10000.0\n",
      "\n",
      "99th Percentile:  20000.0\n",
      "None\n",
      "\u001b[1m\n",
      "Redimento de trabalho mensal da população Indígena em reais\u001b[0m\n",
      "\u001b[1mQuantidade de respondentes 628 de 1672\u001b[0m\n",
      "\n",
      "10th Percentile:  200.0\n",
      "\n",
      "30th Percentile:  650.0\n",
      "\n",
      "50th Percentile:  900.0\n",
      "\n",
      "95th Percentile:  4064.9999999999977\n",
      "\n",
      "99th Percentile:  8365.00000000001\n",
      "None\n"
     ]
    }
   ],
   "source": [
    "rt16 = dados(rt_2016)\n",
    "for i in range(0,len(rt16)-1):\n",
    "    print(rend(rt16[i]))"
   ]
  },
  {
   "cell_type": "code",
   "execution_count": 36,
   "id": "6a60f37a",
   "metadata": {
    "execution": {
     "iopub.execute_input": "2022-03-01T23:30:41.696197Z",
     "iopub.status.busy": "2022-03-01T23:30:41.691255Z",
     "iopub.status.idle": "2022-03-01T23:30:43.776752Z",
     "shell.execute_reply": "2022-03-01T23:30:43.777364Z",
     "shell.execute_reply.started": "2022-03-01T23:29:05.972804Z"
    },
    "papermill": {
     "duration": 2.136889,
     "end_time": "2022-03-01T23:30:43.777589",
     "exception": false,
     "start_time": "2022-03-01T23:30:41.640700",
     "status": "completed"
    },
    "tags": []
   },
   "outputs": [
    {
     "name": "stdout",
     "output_type": "stream",
     "text": [
      "\u001b[1m\n",
      "Redimento de trabalho mensal da população Parda em reais\u001b[0m\n",
      "\u001b[1mQuantidade de respondentes 87673 de 229587\u001b[0m\n",
      "\n",
      "10th Percentile:  200.0\n",
      "\n",
      "30th Percentile:  800.0\n",
      "\n",
      "50th Percentile:  1000.0\n",
      "\n",
      "95th Percentile:  5000.0\n",
      "\n",
      "99th Percentile:  10000.0\n",
      "None\n",
      "\u001b[1m\n",
      "Redimento de trabalho mensal da população Branca em reais\u001b[0m\n",
      "\u001b[1mQuantidade de respondentes 75336 de 170132\u001b[0m\n",
      "\n",
      "10th Percentile:  500.0\n",
      "\n",
      "30th Percentile:  1000.0\n",
      "\n",
      "50th Percentile:  1500.0\n",
      "\n",
      "95th Percentile:  9000.0\n",
      "\n",
      "99th Percentile:  20000.0\n",
      "None\n",
      "\u001b[1m\n",
      "Redimento de trabalho mensal da população Preta em reais\u001b[0m\n",
      "\u001b[1mQuantidade de respondentes 18110 de 39395\u001b[0m\n",
      "\n",
      "10th Percentile:  250.0\n",
      "\n",
      "30th Percentile:  954.0\n",
      "\n",
      "50th Percentile:  1150.0\n",
      "\n",
      "95th Percentile:  4500.0\n",
      "\n",
      "99th Percentile:  10000.0\n",
      "None\n",
      "\u001b[1m\n",
      "Redimento de trabalho mensal da população Amarela em reais\u001b[0m\n",
      "\u001b[1mQuantidade de respondentes 1064 de 2282\u001b[0m\n",
      "\n",
      "10th Percentile:  350.0\n",
      "\n",
      "30th Percentile:  1000.0\n",
      "\n",
      "50th Percentile:  1500.0\n",
      "\n",
      "95th Percentile:  12984.99999999999\n",
      "\n",
      "99th Percentile:  30000.0\n",
      "None\n",
      "\u001b[1m\n",
      "Redimento de trabalho mensal da população Indígena em reais\u001b[0m\n",
      "\u001b[1mQuantidade de respondentes 867 de 2350\u001b[0m\n",
      "\n",
      "10th Percentile:  106.00000000000009\n",
      "\n",
      "30th Percentile:  600.0\n",
      "\n",
      "50th Percentile:  1000.0\n",
      "\n",
      "95th Percentile:  4939.999999999986\n",
      "\n",
      "99th Percentile:  13340.000000000033\n",
      "None\n"
     ]
    }
   ],
   "source": [
    "rt19 = dados(rt_2019)\n",
    "for i in range(0,len(rt19)-1):\n",
    "    print(rend(rt19[i]))"
   ]
  }
 ],
 "metadata": {
  "kernelspec": {
   "display_name": "Python 3",
   "language": "python",
   "name": "python3"
  },
  "language_info": {
   "codemirror_mode": {
    "name": "ipython",
    "version": 3
   },
   "file_extension": ".py",
   "mimetype": "text/x-python",
   "name": "python",
   "nbconvert_exporter": "python",
   "pygments_lexer": "ipython3",
   "version": "3.7.12"
  },
  "papermill": {
   "default_parameters": {},
   "duration": 47.492354,
   "end_time": "2022-03-01T23:30:44.936260",
   "environment_variables": {},
   "exception": null,
   "input_path": "__notebook__.ipynb",
   "output_path": "__notebook__.ipynb",
   "parameters": {},
   "start_time": "2022-03-01T23:29:57.443906",
   "version": "2.3.3"
  }
 },
 "nbformat": 4,
 "nbformat_minor": 5
}
